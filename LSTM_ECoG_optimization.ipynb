{
 "cells": [
  {
   "cell_type": "code",
   "execution_count": 1,
   "id": "3a267892",
   "metadata": {
    "executionInfo": {
     "elapsed": 14815,
     "status": "ok",
     "timestamp": 1703898164849,
     "user": {
      "displayName": "Yi-Ting Chang",
      "userId": "05454796370774276306"
     },
     "user_tz": 300
    },
    "id": "3a267892"
   },
   "outputs": [],
   "source": [
    "import os, requests\n",
    "import numpy as np\n",
    "import matplotlib.pyplot as plt\n",
    "import time\n",
    "import random\n",
    "import scipy\n",
    "import pickle\n",
    "\n",
    "import torch\n",
    "import torch.nn as nn\n",
    "import torch.nn.functional as F\n",
    "import torch.nn as nn\n",
    "import torch.optim as optim\n",
    "\n",
    "from keras.models import Sequential\n",
    "from keras.layers import Dense, LSTM, SimpleRNN, GRU, Activation, Dropout"
   ]
  },
  {
   "cell_type": "code",
   "execution_count": 2,
   "id": "gXNruiD-nrik",
   "metadata": {
    "colab": {
     "base_uri": "https://localhost:8080/"
    },
    "executionInfo": {
     "elapsed": 685,
     "status": "ok",
     "timestamp": 1703898165533,
     "user": {
      "displayName": "Yi-Ting Chang",
      "userId": "05454796370774276306"
     },
     "user_tz": 300
    },
    "id": "gXNruiD-nrik",
    "outputId": "be663a01-0953-40d3-a1ea-514875e98800"
   },
   "outputs": [
    {
     "name": "stdout",
     "output_type": "stream",
     "text": [
      "Found GPU at: /device:GPU:0\n"
     ]
    }
   ],
   "source": [
    "import tensorflow as tf\n",
    "device_name = tf.test.gpu_device_name()\n",
    "if device_name != '/device:GPU:0':\n",
    "  raise SystemError('GPU device not found')\n",
    "print('Found GPU at: {}'.format(device_name))"
   ]
  },
  {
   "cell_type": "code",
   "execution_count": 3,
   "id": "YODpVLZ-zvm1",
   "metadata": {
    "colab": {
     "base_uri": "https://localhost:8080/"
    },
    "executionInfo": {
     "elapsed": 17191,
     "status": "ok",
     "timestamp": 1703898182722,
     "user": {
      "displayName": "Yi-Ting Chang",
      "userId": "05454796370774276306"
     },
     "user_tz": 300
    },
    "id": "YODpVLZ-zvm1",
    "outputId": "4154bbb6-944b-4f09-c673-b290b071eceb"
   },
   "outputs": [
    {
     "name": "stdout",
     "output_type": "stream",
     "text": [
      "Mounted at /content/drive\n"
     ]
    }
   ],
   "source": [
    "from google.colab import drive\n",
    "drive.mount('/content/drive')"
   ]
  },
  {
   "cell_type": "code",
   "execution_count": 4,
   "id": "23938fbb",
   "metadata": {
    "executionInfo": {
     "elapsed": 3,
     "status": "ok",
     "timestamp": 1703898182722,
     "user": {
      "displayName": "Yi-Ting Chang",
      "userId": "05454796370774276306"
     },
     "user_tz": 300
    },
    "id": "23938fbb"
   },
   "outputs": [],
   "source": [
    "# For DL its critical to set the random seed so that students can have a\n",
    "# baseline to compare their results to expected results.\n",
    "# Read more here: https://pytorch.org/docs/stable/notes/randomness.html\n",
    "\n",
    "# Call `set_seed` function in the exercises to ensure reproducibility.\n",
    "\n",
    "\n",
    "def set_seed(seed=None, seed_torch=True):\n",
    "  \"\"\"\n",
    "  Function that controls randomness. NumPy and random modules must be imported.\n",
    "\n",
    "  Args:\n",
    "    seed : Integer\n",
    "      A non-negative integer that defines the random state. Default is `None`.\n",
    "    seed_torch : Boolean\n",
    "      If `True` sets the random seed for pytorch tensors, so pytorch module\n",
    "      must be imported. Default is `True`.\n",
    "\n",
    "  Returns:\n",
    "    Nothing.\n",
    "  \"\"\"\n",
    "  if seed is None:\n",
    "    seed = np.random.choice(2 ** 32)\n",
    "  random.seed(seed)\n",
    "  np.random.seed(seed)\n",
    "  if seed_torch:\n",
    "    torch.manual_seed(seed)\n",
    "    torch.cuda.manual_seed_all(seed)\n",
    "    torch.cuda.manual_seed(seed)\n",
    "    torch.backends.cudnn.benchmark = False\n",
    "    torch.backends.cudnn.deterministic = True\n",
    "\n",
    "  print(f'Random seed {seed} has been set.')\n",
    "\n",
    "\n",
    "# In case that `DataLoader` is used\n",
    "def seed_worker(worker_id):\n",
    "  \"\"\"\n",
    "  DataLoader will reseed workers following randomness in\n",
    "  multi-process data loading algorithm.\n",
    "\n",
    "  Args:\n",
    "    worker_id: integer\n",
    "      ID of subprocess to seed. 0 means that\n",
    "      the data will be loaded in the main process\n",
    "      Refer: https://pytorch.org/docs/stable/data.html#data-loading-randomness for more details\n",
    "\n",
    "  Returns:\n",
    "    Nothing\n",
    "  \"\"\"\n",
    "  worker_seed = torch.initial_seed() % 2**32\n",
    "  np.random.seed(worker_seed)\n",
    "  random.seed(worker_seed)"
   ]
  },
  {
   "cell_type": "code",
   "execution_count": 5,
   "id": "4b7a605d",
   "metadata": {
    "colab": {
     "base_uri": "https://localhost:8080/"
    },
    "executionInfo": {
     "elapsed": 239,
     "status": "ok",
     "timestamp": 1703898182959,
     "user": {
      "displayName": "Yi-Ting Chang",
      "userId": "05454796370774276306"
     },
     "user_tz": 300
    },
    "id": "4b7a605d",
    "outputId": "58e701b4-54ac-4fff-a2c5-7e1bd75ba077"
   },
   "outputs": [
    {
     "name": "stdout",
     "output_type": "stream",
     "text": [
      "Random seed 145 has been set.\n"
     ]
    }
   ],
   "source": [
    "SEED = 145\n",
    "set_seed(seed=SEED)"
   ]
  },
  {
   "cell_type": "code",
   "execution_count": 6,
   "id": "1c1e8e44",
   "metadata": {
    "executionInfo": {
     "elapsed": 2696,
     "status": "ok",
     "timestamp": 1703898185654,
     "user": {
      "displayName": "Yi-Ting Chang",
      "userId": "05454796370774276306"
     },
     "user_tz": 300
    },
    "id": "1c1e8e44"
   },
   "outputs": [],
   "source": [
    "#@title Data retrieval\n",
    "fname = 'joystick_track.npz'\n",
    "url = \"https://osf.io/6jncm/download\"\n",
    "\n",
    "if not os.path.isfile(fname):\n",
    "  try:\n",
    "    r = requests.get(url)\n",
    "  except requests.ConnectionError:\n",
    "    print(\"!!! Failed to download data !!!\")\n",
    "  else:\n",
    "    if r.status_code != requests.codes.ok:\n",
    "      print(\"!!! Failed to download data !!!\")\n",
    "    else:\n",
    "      with open(fname, \"wb\") as fid:\n",
    "        fid.write(r.content)"
   ]
  },
  {
   "cell_type": "code",
   "execution_count": 7,
   "id": "f8b6a401",
   "metadata": {
    "colab": {
     "base_uri": "https://localhost:8080/"
    },
    "executionInfo": {
     "elapsed": 217,
     "status": "ok",
     "timestamp": 1703898185869,
     "user": {
      "displayName": "Yi-Ting Chang",
      "userId": "05454796370774276306"
     },
     "user_tz": 300
    },
    "id": "f8b6a401",
    "outputId": "deb277f7-6f88-4d6d-d16a-89e3dafd5d59"
   },
   "outputs": [
    {
     "name": "stdout",
     "output_type": "stream",
     "text": [
      "dict_keys(['V', 'targetX', 'targetY', 'cursorX', 'cursorY', 'locs', 'hemisphere', 'lobe', 'gyrus', 'Brodmann_Area'])\n"
     ]
    }
   ],
   "source": [
    "# @title Data loading\n",
    "\n",
    "alldat = np.load(fname, allow_pickle=True)['dat'] # Total: 4 patients\n",
    "\n",
    "# Select just one of the recordings here. This is block 1, subject 3.\n",
    "dat = alldat[0][2]\n",
    "\n",
    "print(dat.keys())"
   ]
  },
  {
   "cell_type": "code",
   "execution_count": 8,
   "id": "44efc59e",
   "metadata": {
    "executionInfo": {
     "elapsed": 1,
     "status": "ok",
     "timestamp": 1703898185869,
     "user": {
      "displayName": "Yi-Ting Chang",
      "userId": "05454796370774276306"
     },
     "user_tz": 300
    },
    "id": "44efc59e"
   },
   "outputs": [],
   "source": [
    "def select_brain_regions(data, selected_BA):\n",
    "    '''\n",
    "    args:\n",
    "        data(dict): dict_keys(['V', 'targetX', 'targetY', 'cursorX', 'cursorY',\n",
    "                                'locs', 'hemisphere', 'lobe', 'gyrus', 'Brodmann_Area'])\n",
    "        selected_BA(list): a list of Brodmann Area numbers\n",
    "    retuns:\n",
    "        new_data(dict): dict_keys(['V', 'cursorX', 'cursorY'])\n",
    "    '''\n",
    "\n",
    "    Brodmann_Area = data['Brodmann_Area']\n",
    "    BA_num = [ int(x[14:]) for x in Brodmann_Area ] # get Brodmann Area number\n",
    "    is_selected = [i in selected_BA for i in BA_num]\n",
    "    new_V = data['V'][:,is_selected].astype(np.float32) # ECog voltage (time x channel)\n",
    "    new_data = {'V': new_V, 'cursorX': data['cursorX'], 'cursorY': data['cursorY'] }\n",
    "\n",
    "    return new_data"
   ]
  },
  {
   "cell_type": "code",
   "execution_count": 9,
   "id": "da7602fa",
   "metadata": {
    "executionInfo": {
     "elapsed": 1,
     "status": "ok",
     "timestamp": 1703898185869,
     "user": {
      "displayName": "Yi-Ting Chang",
      "userId": "05454796370774276306"
     },
     "user_tz": 300
    },
    "id": "da7602fa"
   },
   "outputs": [],
   "source": [
    "# Get data from the electrodes in somatosensory and motor areas\n",
    "\n",
    "# Brodmann area location and function\n",
    "# https://www.simplypsychology.org/brodmann-areas.html\n",
    "# Brodmann areas 1, 2 & 3 : Primary somatosensory Cortex (postcentral gyrus)\n",
    "# Brodmann area 4 : Primary Motor Cortex (precentral gyrus)\n",
    "# Brodmann area 5 : Somatosensory Association Cortex (superior parietal lobule)\n",
    "# Brodmann area 6 : Premotor Cortex and Supplementary Motor Cortex\n",
    "# Brodmann area 7 : Somatosensory Association Cortex\n",
    "# Brodmann area 8 : Frontal eye fields\n",
    "\n",
    "selected_BA = np.arange(9) # select Brodmann area 1 to 8\n",
    "dat = select_brain_regions(dat, selected_BA)\n"
   ]
  },
  {
   "cell_type": "code",
   "execution_count": 10,
   "id": "76548851",
   "metadata": {
    "executionInfo": {
     "elapsed": 1,
     "status": "ok",
     "timestamp": 1703898186245,
     "user": {
      "displayName": "Yi-Ting Chang",
      "userId": "05454796370774276306"
     },
     "user_tz": 300
    },
    "id": "76548851"
   },
   "outputs": [],
   "source": [
    "def filter_signal(data, freq_band, sample_rate, order = 4):\n",
    "    '''\n",
    "    args:\n",
    "        data(dict): dict_keys(['V', 'cursorX', 'cursorY'...)\n",
    "        freq_band (list): frequence band for filtering ([lowcut, highcut])\n",
    "        sample_rate (int): sample rate (in Hz)\n",
    "        order (int): 4 (default)\n",
    "    retuns:\n",
    "        new_data(dict): dict_keys(['filtered_V', 'cursorX', 'cursorY'])\n",
    "    '''\n",
    "    nyquistFreq = sample_rate*0.5\n",
    "    # The Nyquist frequency is the highest frequency that equipment of a given sample rate can reliably measure,\n",
    "    # one-half the given sample rate.\n",
    "    low  = freq_band[0] / nyquistFreq\n",
    "    high = freq_band[1] / nyquistFreq\n",
    "\n",
    "    b, a = scipy.signal.butter(order, [low, high], btype='bandpass')\n",
    "\n",
    "    V = data['V']\n",
    "    nt, nchan = V.shape\n",
    "\n",
    "    new_V = np.zeros_like(V)\n",
    "    for i in range(nchan):\n",
    "        new_V[:,i] = scipy.signal.filtfilt(b, a, V[:, i])\n",
    "\n",
    "    new_data = {'V': new_V, 'cursorX': data['cursorX'], 'cursorY': data['cursorY'] }\n",
    "\n",
    "    return new_data"
   ]
  },
  {
   "cell_type": "code",
   "execution_count": 11,
   "id": "ab000056",
   "metadata": {
    "executionInfo": {
     "elapsed": 754,
     "status": "ok",
     "timestamp": 1703898189541,
     "user": {
      "displayName": "Yi-Ting Chang",
      "userId": "05454796370774276306"
     },
     "user_tz": 300
    },
    "id": "ab000056"
   },
   "outputs": [],
   "source": [
    "# Filter ecog\n",
    "# Beta rhythms (13-30 Hz)\n",
    "sample_rate = 1000\n",
    "freq_band = [10, 50]\n",
    "dat = filter_signal(dat, freq_band, sample_rate)\n"
   ]
  },
  {
   "cell_type": "code",
   "execution_count": 12,
   "id": "1QeLWEVhwDY7",
   "metadata": {
    "executionInfo": {
     "elapsed": 2,
     "status": "ok",
     "timestamp": 1703898189541,
     "user": {
      "displayName": "Yi-Ting Chang",
      "userId": "05454796370774276306"
     },
     "user_tz": 300
    },
    "id": "1QeLWEVhwDY7"
   },
   "outputs": [],
   "source": [
    "def create_snips(data, window_len, stride_len, sample_rate):\n",
    "    '''\n",
    "    args:\n",
    "        data(dict): dict_keys(['V', 'cursorX', 'cursorY'])\n",
    "        window_len (int): length of time window (in ms)\n",
    "        stride_len (int): length of stride (in ms)\n",
    "        sample_rate (int): sample rate (in Hz)\n",
    "\n",
    "    returns:\n",
    "        X: neural data (a 3D matrix, # of samples x # of bin in window_len  x # of channel)\n",
    "        Y: label (a 2D matrix, # of smaples x # of coordinates)\n",
    "    '''\n",
    "    bin_size = 1000/sample_rate # ms\n",
    "    V = data['V'].astype(np.float32) #ECoG recording (time x channel)\n",
    "    nt, nchan = V.shape\n",
    "    num_bin_window = int(window_len/bin_size)\n",
    "    assert len(data['cursorX']) == nt\n",
    "    assert len(data['cursorX']) == len(data['cursorY'])\n",
    "    indices = [(i, i + num_bin_window) for i in list(range(0, nt - num_bin_window +1, int(stride_len/bin_size)))]\n",
    "\n",
    "    # normalize cursor X and Y\n",
    "    normalized_cursorX = data['cursorX']/np.max(data['cursorX'])\n",
    "    normalized_cursorY = data['cursorY']/np.max(data['cursorY'])\n",
    "\n",
    "    num_samples = len(indices)\n",
    "    #Initialize X and Y matrix\n",
    "    X = np.empty([num_samples,num_bin_window,nchan])\n",
    "    X[:] = np.NaN\n",
    "    Y = np.empty([num_samples,2])\n",
    "    Y[:] = np.NaN\n",
    "\n",
    "    for i, indx in enumerate(indices):\n",
    "        X[i,:,:] = V[indx[0]:indx[1], :]\n",
    "        Y[i,0] = normalized_cursorX[indx[1], 0]\n",
    "        Y[i,1] = normalized_cursorY[indx[1], 0]\n",
    "\n",
    "    return X, Y"
   ]
  },
  {
   "cell_type": "code",
   "execution_count": 13,
   "id": "ea2ee499",
   "metadata": {
    "executionInfo": {
     "elapsed": 229,
     "status": "ok",
     "timestamp": 1703898192596,
     "user": {
      "displayName": "Yi-Ting Chang",
      "userId": "05454796370774276306"
     },
     "user_tz": 300
    },
    "id": "ea2ee499"
   },
   "outputs": [],
   "source": [
    "#screen refresh rate ~ 20Hz. So stride > 50ms.\n",
    "sample_rate = 1000 # (in Hz)\n",
    "window_len = 500 # (in ms)\n",
    "stride_len = 100 # (in ms)\n",
    "num_overlapping_bin = int(window_len/stride_len)\n",
    "X, Y = create_snips(dat, window_len, stride_len, sample_rate)"
   ]
  },
  {
   "cell_type": "code",
   "execution_count": 14,
   "id": "Gu2kGnhPbstF",
   "metadata": {
    "colab": {
     "base_uri": "https://localhost:8080/"
    },
    "executionInfo": {
     "elapsed": 3,
     "status": "ok",
     "timestamp": 1703898193418,
     "user": {
      "displayName": "Yi-Ting Chang",
      "userId": "05454796370774276306"
     },
     "user_tz": 300
    },
    "id": "Gu2kGnhPbstF",
    "outputId": "da14c1a9-89c8-4846-a812-359d1a985dda"
   },
   "outputs": [
    {
     "data": {
      "text/plain": [
       "(1339, 500, 33)"
      ]
     },
     "execution_count": 14,
     "metadata": {},
     "output_type": "execute_result"
    }
   ],
   "source": [
    "X.shape"
   ]
  },
  {
   "cell_type": "markdown",
   "id": "3349610c",
   "metadata": {
    "id": "3349610c"
   },
   "source": [
    "**Splitting the data into train, test and validation sets - 80% train, 10% test and 10% validation. Then, doing a 10 fold Cross Validation...so in the first fold, for example, 0-10% is validation, 10-20% is testing, and 20-100% is training.**"
   ]
  },
  {
   "cell_type": "code",
   "execution_count": 15,
   "id": "09c6f033",
   "metadata": {
    "executionInfo": {
     "elapsed": 180,
     "status": "ok",
     "timestamp": 1703898198660,
     "user": {
      "displayName": "Yi-Ting Chang",
      "userId": "05454796370774276306"
     },
     "user_tz": 300
    },
    "id": "09c6f033"
   },
   "outputs": [],
   "source": [
    "valid_range_all=[[0,.1],[.1,.2],[.2,.3],[.3,.4],[.4,.5],\n",
    "                     [.5,.6],[.6,.7],[.7,.8],[.8,.9],[.9,1]]\n",
    "testing_range_all=[[.1,.2],[.2,.3],[.3,.4],[.4,.5],[.5,.6],\n",
    "                     [.6,.7],[.7,.8],[.8,.9],[.9,1],[0,.1]]\n",
    "#Note that the training set is not aways contiguous. For example, in the second fold, the training set has 0-10% and 30-100%.\n",
    "#In that example, we enter of list of lists: [[0,.1],[.3,1]]\n",
    "training_range_all=[[[.2,1]],[[0,.1],[.3,1]],[[0,.2],[.4,1]],[[0,.3],[.5,1]],[[0,.4],[.6,1]],\n",
    "                       [[0,.5],[.7,1]],[[0,.6],[.8,1]],[[0,.7],[.9,1]],[[0,.8]],[[.1,.9]]]\n",
    "\n",
    "num_folds=len(valid_range_all) #Number of cross validation folds\n",
    "\n",
    "#R2 values\n",
    "mean_r2_lstm=np.empty(num_folds)"
   ]
  },
  {
   "cell_type": "code",
   "execution_count": 16,
   "id": "209b399f",
   "metadata": {
    "colab": {
     "base_uri": "https://localhost:8080/"
    },
    "executionInfo": {
     "elapsed": 97,
     "status": "ok",
     "timestamp": 1703898199577,
     "user": {
      "displayName": "Yi-Ting Chang",
      "userId": "05454796370774276306"
     },
     "user_tz": 300
    },
    "id": "209b399f",
    "outputId": "70f4c6cf-e566-4f3e-fe85-5abb70210038"
   },
   "outputs": [
    {
     "name": "stdout",
     "output_type": "stream",
     "text": [
      "1339\n"
     ]
    }
   ],
   "source": [
    "#Actual data\n",
    "y_test_all=[]\n",
    "y_train_all=[]\n",
    "y_valid_all=[]\n",
    "\n",
    "#Test predictions\n",
    "y_pred_lstm_all=[]\n",
    "dec_error_all = []\n",
    "\n",
    "#Training predictions\n",
    "y_train_pred_lstm_all=[]\n",
    "\n",
    "#Validation predictions\n",
    "y_valid_pred_lstm_all=[]\n",
    "\n",
    "t1 = time.time()  # If I want to keep track of how much time has elapsed\n",
    "\n",
    "num_examples = len(X)  # number of examples\n",
    "print(num_examples)\n"
   ]
  },
  {
   "cell_type": "code",
   "execution_count": 17,
   "id": "a2a6268a",
   "metadata": {
    "executionInfo": {
     "elapsed": 104,
     "status": "ok",
     "timestamp": 1703898202064,
     "user": {
      "displayName": "Yi-Ting Chang",
      "userId": "05454796370774276306"
     },
     "user_tz": 300
    },
    "id": "a2a6268a"
   },
   "outputs": [],
   "source": [
    "class LSTMRegression(object):\n",
    "\n",
    "    \"\"\"\n",
    "    Class for the LSTM decoder for  Regression\n",
    "\n",
    "    Parameters\n",
    "    ----------\n",
    "    units: integer, optional, default 400\n",
    "        Number of hidden units in each layer\n",
    "\n",
    "    dropout: decimal, optional, default 0.2\n",
    "        Proportion of units that get dropped out\n",
    "\n",
    "    num_epochs: integer, optional, default 10\n",
    "        Number of epochs used for training\n",
    "\n",
    "    verbose: binary, optional, default=0\n",
    "        Whether to show progress of the fit after each epoch\n",
    "    \"\"\"\n",
    "\n",
    "    def __init__(self,units=400,dropout=0.2,num_epochs=10,verbose=0):\n",
    "         self.units=units\n",
    "         self.dropout=dropout\n",
    "         self.num_epochs=num_epochs\n",
    "         self.verbose=verbose\n",
    "\n",
    "\n",
    "    def fit(self,X_train,y_train):\n",
    "\n",
    "        \"\"\"\n",
    "        Train LSTM Decoder\n",
    "\n",
    "        Parameters\n",
    "        ----------\n",
    "        X_train: numpy 3d array of shape [n_samples,n_time_bins,n_channels]\n",
    "            This is the neural data.\n",
    "            See example file for an example of how to format the neural data correctly\n",
    "\n",
    "        y_train: numpy 2d array of shape [n_samples, n_outputs]\n",
    "            This is the outputs that are being predicted\n",
    "        \"\"\"\n",
    "\n",
    "        model=Sequential() #Declare model\n",
    "        #Add recurrent layer\n",
    "        model.add(LSTM(self.units,input_shape=(X_train.shape[1],X_train.shape[2]),dropout=self.dropout,recurrent_dropout=self.dropout)) #Within recurrent layer, include dropout\n",
    "        if self.dropout!=0:\n",
    "            model.add(Dropout(self.dropout)) #Dropout some units (recurrent layer output units)\n",
    "\n",
    "        #Add dense connections to output layer\n",
    "        model.add(Dense(y_train.shape[1]))\n",
    "\n",
    "        #Fit model (and set fitting parameters)\n",
    "        model.compile(loss='mse',optimizer='rmsprop',metrics=['accuracy']) #Set loss function and optimizer\n",
    "        model.fit(X_train,y_train,epochs=self.num_epochs,verbose=self.verbose) #Fit the model\n",
    "        self.model=model\n",
    "\n",
    "\n",
    "    def predict(self,X_test):\n",
    "\n",
    "        \"\"\"\n",
    "        Predict outcomes using trained LSTM Decoder\n",
    "\n",
    "        Parameters\n",
    "        ----------\n",
    "        X_test: numpy 3d array of shape [n_samples,n_time_bins,n_neurons]\n",
    "            This is the neural data being used to predict outputs.\n",
    "\n",
    "        Returns\n",
    "        -------\n",
    "        y_test_predicted: numpy 2d array of shape [n_samples,n_outputs]\n",
    "            The predicted outputs\n",
    "        \"\"\"\n",
    "\n",
    "        y_test_predicted = self.model.predict(X_test) #Make predictions\n",
    "        return y_test_predicted"
   ]
  },
  {
   "cell_type": "code",
   "execution_count": 18,
   "id": "c537ae80",
   "metadata": {
    "executionInfo": {
     "elapsed": 89,
     "status": "ok",
     "timestamp": 1703898204856,
     "user": {
      "displayName": "Yi-Ting Chang",
      "userId": "05454796370774276306"
     },
     "user_tz": 300
    },
    "id": "c537ae80"
   },
   "outputs": [],
   "source": [
    "def get_R2(y_test,y_test_pred):\n",
    "\n",
    "    \"\"\"\n",
    "    Function to get R2\n",
    "\n",
    "    Parameters\n",
    "    ----------\n",
    "    y_test - the true outputs (a matrix of size number of examples x number of outputs)\n",
    "    y_test_pred - the predicted outputs (a matrix of size number of examples x number of outputs)\n",
    "\n",
    "    Returns\n",
    "    -------\n",
    "    R2_array: An array of R2s for each output\n",
    "    \"\"\"\n",
    "\n",
    "    R2_list=[] #Initialize a list that will contain the R2s for all the outputs\n",
    "    for i in range(y_test.shape[1]): #Loop through outputs\n",
    "        #Compute R2 for each output\n",
    "        y_mean=np.mean(y_test[:,i])\n",
    "        R2=1-np.sum((y_test_pred[:,i]-y_test[:,i])**2)/np.sum((y_test[:,i]-y_mean)**2)\n",
    "        R2_list.append(R2) #Append R2 of this output to the list\n",
    "    R2_array=np.array(R2_list)\n",
    "    return R2_array #Return an array of R2s"
   ]
  },
  {
   "cell_type": "code",
   "execution_count": null,
   "id": "-tMSKfeD1CGx",
   "metadata": {
    "id": "-tMSKfeD1CGx"
   },
   "outputs": [],
   "source": [
    "# Use the fold \"0\" to find hyperparameters\n",
    "i=0\n",
    "######### SPLIT DATA INTO TRAINING/TESTING/VALIDATION #########\n",
    "# Get testing set for this fold\n",
    "# testing_range = testing_range_all[i]\n",
    "# testing_set = np.arange(int(np.round(testing_range[0] * num_examples)) + num_overlapping_bin,\n",
    "#                         int(np.round(testing_range[1] * num_examples)))\n",
    "\n",
    "# Get validation set for this fold\n",
    "valid_range = valid_range_all[i]\n",
    "valid_set = np.arange(int(np.round(valid_range[0] * num_examples)) + num_overlapping_bin,\n",
    "                        int(np.round(valid_range[1] * num_examples)))\n",
    "\n",
    "# Get training set for this fold.\n",
    "# Note this needs to take into account a non-contiguous training set (see section 3C)\n",
    "training_ranges = training_range_all[i]\n",
    "for j in range(len(training_ranges)):  # Go through different separated portions of the training set\n",
    "    training_range = training_ranges[j]\n",
    "    if j == 0:  # If it's the first portion of the training set, make it the training set\n",
    "        training_set = np.arange(int(np.round(training_range[0] * num_examples)) + num_overlapping_bin,\n",
    "                                    int(np.round(training_range[1] * num_examples)))\n",
    "    if j == 1:  # If it's the second portion of the training set, concatentate it to the first\n",
    "        training_set_temp = np.arange(int(np.round(training_range[0] * num_examples)) + num_overlapping_bin,\n",
    "                                        int(np.round(training_range[1] * num_examples)))\n",
    "        training_set = np.concatenate((training_set, training_set_temp), axis=0)\n",
    "\n",
    "# Get training data\n",
    "X_train = X[training_set, :]\n",
    "y_train = Y[training_set, :]\n",
    "\n",
    "# # Get testing data\n",
    "# X_test = X[testing_set, :]\n",
    "# y_test = Y[testing_set, :, cursor_axis]\n",
    "\n",
    "# Get validation data\n",
    "X_valid = X[valid_set, :]\n",
    "y_valid = Y[valid_set, :]"
   ]
  },
  {
   "cell_type": "code",
   "execution_count": 19,
   "id": "7PkUO2UAr5z9",
   "metadata": {
    "executionInfo": {
     "elapsed": 98,
     "status": "ok",
     "timestamp": 1703898213018,
     "user": {
      "displayName": "Yi-Ting Chang",
      "userId": "05454796370774276306"
     },
     "user_tz": 300
    },
    "id": "7PkUO2UAr5z9"
   },
   "outputs": [],
   "source": [
    "### Get hyperparameters using Bayesian optimization based on validation set R2 values###\n",
    "# Define a function that returns the metric we are trying to optimize (R2 value of the validation set)\n",
    "# as a function of the hyperparameter we are fitting\n",
    "def lstm_evaluate(num_units, frac_dropout, n_epochs):\n",
    "    num_units = int(num_units)\n",
    "    frac_dropout = float(frac_dropout)\n",
    "    n_epochs = int(n_epochs)\n",
    "    model_lstm = LSTMRegression(units=num_units, dropout=frac_dropout, num_epochs=n_epochs)\n",
    "    model_lstm.fit(X_train, y_train)\n",
    "    y_valid_predicted_lstm = model_lstm.predict(X_valid)\n",
    "    return np.mean(get_R2(y_valid, y_valid_predicted_lstm))\n"
   ]
  },
  {
   "cell_type": "code",
   "execution_count": 20,
   "id": "nlDghJq9wlOn",
   "metadata": {
    "colab": {
     "base_uri": "https://localhost:8080/"
    },
    "executionInfo": {
     "elapsed": 6143,
     "status": "ok",
     "timestamp": 1703889674503,
     "user": {
      "displayName": "Yi-Ting Chang",
      "userId": "05454796370774276306"
     },
     "user_tz": 300
    },
    "id": "nlDghJq9wlOn",
    "outputId": "65f80743-a36d-42f9-851e-52156a08e642"
   },
   "outputs": [
    {
     "name": "stdout",
     "output_type": "stream",
     "text": [
      "Collecting bayesian-optimization\n",
      "  Downloading bayesian_optimization-1.4.3-py3-none-any.whl (18 kB)\n",
      "Requirement already satisfied: numpy>=1.9.0 in /usr/local/lib/python3.10/dist-packages (from bayesian-optimization) (1.23.5)\n",
      "Requirement already satisfied: scipy>=1.0.0 in /usr/local/lib/python3.10/dist-packages (from bayesian-optimization) (1.11.4)\n",
      "Requirement already satisfied: scikit-learn>=0.18.0 in /usr/local/lib/python3.10/dist-packages (from bayesian-optimization) (1.2.2)\n",
      "Collecting colorama>=0.4.6 (from bayesian-optimization)\n",
      "  Downloading colorama-0.4.6-py2.py3-none-any.whl (25 kB)\n",
      "Requirement already satisfied: joblib>=1.1.1 in /usr/local/lib/python3.10/dist-packages (from scikit-learn>=0.18.0->bayesian-optimization) (1.3.2)\n",
      "Requirement already satisfied: threadpoolctl>=2.0.0 in /usr/local/lib/python3.10/dist-packages (from scikit-learn>=0.18.0->bayesian-optimization) (3.2.0)\n",
      "Installing collected packages: colorama, bayesian-optimization\n",
      "Successfully installed bayesian-optimization-1.4.3 colorama-0.4.6\n"
     ]
    }
   ],
   "source": [
    "!pip install bayesian-optimization"
   ]
  },
  {
   "cell_type": "code",
   "execution_count": null,
   "id": "c_pj7r_uyaOC",
   "metadata": {
    "colab": {
     "base_uri": "https://localhost:8080/"
    },
    "executionInfo": {
     "elapsed": 2276643,
     "status": "ok",
     "timestamp": 1703802994331,
     "user": {
      "displayName": "Yi-Ting Chang",
      "userId": "05454796370774276306"
     },
     "user_tz": 300
    },
    "id": "c_pj7r_uyaOC",
    "outputId": "4516b46b-941f-487a-a8dc-413daca0ba25"
   },
   "outputs": [
    {
     "name": "stderr",
     "output_type": "stream",
     "text": [
      "WARNING:tensorflow:Layer lstm will not use cuDNN kernels since it doesn't meet the criteria. It will use a generic GPU kernel as fallback when running on GPU.\n"
     ]
    },
    {
     "name": "stdout",
     "output_type": "stream",
     "text": [
      "5/5 [==============================] - 1s 130ms/step\n"
     ]
    },
    {
     "name": "stderr",
     "output_type": "stream",
     "text": [
      "WARNING:tensorflow:Layer lstm_1 will not use cuDNN kernels since it doesn't meet the criteria. It will use a generic GPU kernel as fallback when running on GPU.\n"
     ]
    },
    {
     "name": "stdout",
     "output_type": "stream",
     "text": [
      "-0.1693428195429395 {'frac_dropout': 0.16680880188102962, 'n_epochs': 14.965840881958846, 'num_units': 20.043462430591056}\n",
      "5/5 [==============================] - 1s 134ms/step\n",
      "-0.062080419226959505 {'frac_dropout': 0.15033615230573336, 'n_epochs': 16.217813630468463, 'num_units': 314.28982279620925}\n"
     ]
    },
    {
     "name": "stderr",
     "output_type": "stream",
     "text": [
      "WARNING:tensorflow:Layer lstm_2 will not use cuDNN kernels since it doesn't meet the criteria. It will use a generic GPU kernel as fallback when running on GPU.\n"
     ]
    },
    {
     "name": "stdout",
     "output_type": "stream",
     "text": [
      "5/5 [==============================] - 1s 204ms/step\n",
      "-0.07000121303561302 {'frac_dropout': 0.3829748474710915, 'n_epochs': 16.303002146281663, 'num_units': 313.0528676711225}\n",
      "5/5 [==============================] - 0s 13ms/step\n",
      "-0.5405687648294081 {'frac_dropout': 0.0, 'n_epochs': 15.290642574048526, 'num_units': 328.14870250836935}\n",
      "5/5 [==============================] - 0s 24ms/step\n",
      "-0.21222178065277186 {'frac_dropout': 0.0, 'n_epochs': 5.840221522516359, 'num_units': 311.51220305249}\n",
      "{'target': -0.062080419226959505, 'params': {'frac_dropout': 0.15033615230573336, 'n_epochs': 16.217813630468463, 'num_units': 314.28982279620925}}\n"
     ]
    }
   ],
   "source": [
    "# Bayesian optimization using \"set_gp_params\"\n",
    "\n",
    "# Passing acquisition function parameters or gaussian process parameters to maximize\n",
    "# is no longer supported. Instead,please use the \"set_gp_params\" method to set\n",
    "#  the gp params, and pass an instance of bayes_opt.util.UtilityFunction\n",
    "#  using the acquisition_function argument\n",
    "# https://github.com/bayesian-optimization/BayesianOptimization/blob/master/examples/advanced-tour.ipynb\n",
    "\n",
    "from bayes_opt import BayesianOptimization\n",
    "from bayes_opt import UtilityFunction\n",
    "\n",
    "optimizer = BayesianOptimization(\n",
    "    f=None,\n",
    "    pbounds={'num_units': (20, 400), 'frac_dropout': (0, .4), 'n_epochs': (2, 20)},\n",
    "    verbose=2,\n",
    "    random_state=1,\n",
    ")\n",
    "\n",
    "utility = UtilityFunction(kind=\"ucb\", kappa=2.5, xi=0.0)\n",
    "\n",
    "# next_point_to_probe = optimizer.suggest(utility)\n",
    "# print(\"Next point to probe is:\", next_point_to_probe)\n",
    "\n",
    "# target = lstm_evaluate(**next_point_to_probe)\n",
    "# print(\"Found the target value to be:\", target)\n",
    "\n",
    "# optimizer.register(\n",
    "#     params=next_point_to_probe,\n",
    "#     target=target,\n",
    "# )\n",
    "\n",
    "for _ in range(5):\n",
    "    next_point = optimizer.suggest(utility)\n",
    "    target = lstm_evaluate(**next_point)\n",
    "    optimizer.register(params=next_point, target=target)\n",
    "\n",
    "    print(target, next_point)\n",
    "print(optimizer.max)"
   ]
  },
  {
   "cell_type": "code",
   "execution_count": null,
   "id": "AiPgIbKOOPPy",
   "metadata": {
    "colab": {
     "base_uri": "https://localhost:8080/"
    },
    "executionInfo": {
     "elapsed": 212,
     "status": "ok",
     "timestamp": 1703803731731,
     "user": {
      "displayName": "Yi-Ting Chang",
      "userId": "05454796370774276306"
     },
     "user_tz": 300
    },
    "id": "AiPgIbKOOPPy",
    "outputId": "67810754-dbe5-45af-d0d5-91333abbd5d7"
   },
   "outputs": [
    {
     "name": "stdout",
     "output_type": "stream",
     "text": [
      "{'target': -0.062080419226959505, 'params': {'frac_dropout': 0.15033615230573336, 'n_epochs': 16.217813630468463, 'num_units': 314.28982279620925}}\n"
     ]
    }
   ],
   "source": [
    "print(optimizer.max)"
   ]
  },
  {
   "cell_type": "code",
   "execution_count": null,
   "id": "PNNHd0lROsxr",
   "metadata": {
    "id": "PNNHd0lROsxr"
   },
   "outputs": [],
   "source": [
    "# save to Google drive\n",
    "filename = 'optimizer_selected_channels_filtered'\n",
    "filehandler = open(filename, 'wb')\n",
    "pickle.dump(optimizer, filehandler)\n"
   ]
  },
  {
   "cell_type": "code",
   "execution_count": null,
   "id": "P50gQil1myL2",
   "metadata": {
    "id": "P50gQil1myL2"
   },
   "outputs": [],
   "source": [
    "# Ten-fold validation"
   ]
  },
  {
   "cell_type": "code",
   "execution_count": 20,
   "id": "e4d58a4f",
   "metadata": {
    "colab": {
     "base_uri": "https://localhost:8080/"
    },
    "executionInfo": {
     "elapsed": 4800896,
     "status": "ok",
     "timestamp": 1703905333084,
     "user": {
      "displayName": "Yi-Ting Chang",
      "userId": "05454796370774276306"
     },
     "user_tz": 300
    },
    "id": "e4d58a4f",
    "outputId": "f1b6e810-357b-49b0-dca8-c32c44d0751a"
   },
   "outputs": [
    {
     "metadata": {
      "tags": null
     },
     "name": "stderr",
     "output_type": "stream",
     "text": [
      "WARNING:tensorflow:Layer lstm will not use cuDNN kernels since it doesn't meet the criteria. It will use a generic GPU kernel as fallback when running on GPU.\n"
     ]
    },
    {
     "metadata": {
      "tags": null
     },
     "name": "stdout",
     "output_type": "stream",
     "text": [
      "5/5 [==============================] - 1s 134ms/step\n",
      "R2s: [-0.05554281 -0.45566503]\n",
      "34/34 [==============================] - 6s 163ms/step\n",
      "5/5 [==============================] - 1s 126ms/step\n"
     ]
    },
    {
     "metadata": {
      "tags": null
     },
     "name": "stderr",
     "output_type": "stream",
     "text": [
      "WARNING:tensorflow:Layer lstm_1 will not use cuDNN kernels since it doesn't meet the criteria. It will use a generic GPU kernel as fallback when running on GPU.\n"
     ]
    },
    {
     "metadata": {
      "tags": null
     },
     "name": "stdout",
     "output_type": "stream",
     "text": [
      "5/5 [==============================] - 1s 126ms/step\n",
      "R2s: [-0.06116744 -0.02400357]\n",
      "34/34 [==============================] - 4s 128ms/step\n",
      "5/5 [==============================] - 1s 128ms/step\n"
     ]
    },
    {
     "metadata": {
      "tags": null
     },
     "name": "stderr",
     "output_type": "stream",
     "text": [
      "WARNING:tensorflow:Layer lstm_2 will not use cuDNN kernels since it doesn't meet the criteria. It will use a generic GPU kernel as fallback when running on GPU.\n"
     ]
    },
    {
     "metadata": {
      "tags": null
     },
     "name": "stdout",
     "output_type": "stream",
     "text": [
      "5/5 [==============================] - 1s 131ms/step\n",
      "R2s: [-0.19957243 -0.30578803]\n",
      "34/34 [==============================] - 5s 136ms/step\n",
      "5/5 [==============================] - 1s 189ms/step\n"
     ]
    },
    {
     "metadata": {
      "tags": null
     },
     "name": "stderr",
     "output_type": "stream",
     "text": [
      "WARNING:tensorflow:Layer lstm_3 will not use cuDNN kernels since it doesn't meet the criteria. It will use a generic GPU kernel as fallback when running on GPU.\n"
     ]
    },
    {
     "name": "stdout",
     "output_type": "stream",
     "text": [
      "5/5 [==============================] - 1s 122ms/step\n",
      "R2s: [-0.7053331  -0.60630007]\n",
      "34/34 [==============================] - 5s 143ms/step\n",
      "5/5 [==============================] - 1s 186ms/step\n"
     ]
    },
    {
     "name": "stderr",
     "output_type": "stream",
     "text": [
      "WARNING:tensorflow:Layer lstm_4 will not use cuDNN kernels since it doesn't meet the criteria. It will use a generic GPU kernel as fallback when running on GPU.\n"
     ]
    },
    {
     "name": "stdout",
     "output_type": "stream",
     "text": [
      "4/4 [==============================] - 1s 130ms/step\n",
      "R2s: [-0.03574951 -0.08049389]\n",
      "34/34 [==============================] - 5s 130ms/step\n",
      "5/5 [==============================] - 1s 127ms/step\n"
     ]
    },
    {
     "name": "stderr",
     "output_type": "stream",
     "text": [
      "WARNING:tensorflow:Layer lstm_5 will not use cuDNN kernels since it doesn't meet the criteria. It will use a generic GPU kernel as fallback when running on GPU.\n"
     ]
    },
    {
     "name": "stdout",
     "output_type": "stream",
     "text": [
      "5/5 [==============================] - 1s 125ms/step\n",
      "R2s: [-0.25051603 -0.23248838]\n",
      "34/34 [==============================] - 4s 127ms/step\n",
      "4/4 [==============================] - 1s 190ms/step\n"
     ]
    },
    {
     "name": "stderr",
     "output_type": "stream",
     "text": [
      "WARNING:tensorflow:Layer lstm_6 will not use cuDNN kernels since it doesn't meet the criteria. It will use a generic GPU kernel as fallback when running on GPU.\n"
     ]
    },
    {
     "name": "stdout",
     "output_type": "stream",
     "text": [
      "5/5 [==============================] - 1s 126ms/step\n",
      "R2s: [-0.00906248 -0.11092863]\n",
      "34/34 [==============================] - 4s 128ms/step\n",
      "5/5 [==============================] - 1s 126ms/step\n"
     ]
    },
    {
     "name": "stderr",
     "output_type": "stream",
     "text": [
      "WARNING:tensorflow:Layer lstm_7 will not use cuDNN kernels since it doesn't meet the criteria. It will use a generic GPU kernel as fallback when running on GPU.\n"
     ]
    },
    {
     "name": "stdout",
     "output_type": "stream",
     "text": [
      "5/5 [==============================] - 1s 184ms/step\n",
      "R2s: [-0.24252113 -0.01522139]\n",
      "34/34 [==============================] - 6s 180ms/step\n",
      "5/5 [==============================] - 1s 123ms/step\n"
     ]
    },
    {
     "name": "stderr",
     "output_type": "stream",
     "text": [
      "WARNING:tensorflow:Layer lstm_8 will not use cuDNN kernels since it doesn't meet the criteria. It will use a generic GPU kernel as fallback when running on GPU.\n"
     ]
    },
    {
     "name": "stdout",
     "output_type": "stream",
     "text": [
      "5/5 [==============================] - 1s 129ms/step\n",
      "R2s: [-0.65275708 -0.11305264]\n",
      "34/34 [==============================] - 6s 164ms/step\n",
      "5/5 [==============================] - 1s 124ms/step\n"
     ]
    },
    {
     "name": "stderr",
     "output_type": "stream",
     "text": [
      "WARNING:tensorflow:Layer lstm_9 will not use cuDNN kernels since it doesn't meet the criteria. It will use a generic GPU kernel as fallback when running on GPU.\n"
     ]
    },
    {
     "name": "stdout",
     "output_type": "stream",
     "text": [
      "5/5 [==============================] - 2s 153ms/step\n",
      "R2s: [-0.01239504 -0.07677598]\n",
      "34/34 [==============================] - 5s 151ms/step\n",
      "5/5 [==============================] - 1s 125ms/step\n"
     ]
    }
   ],
   "source": [
    "for i in range(num_folds):  # Loop through the folds\n",
    "\n",
    "    ######### SPLIT DATA INTO TRAINING/TESTING/VALIDATION #########\n",
    "\n",
    "    # Get testing set for this fold\n",
    "    testing_range = testing_range_all[i]\n",
    "    testing_set = np.arange(int(np.round(testing_range[0] * num_examples)) + num_overlapping_bin,\n",
    "                            int(np.round(testing_range[1] * num_examples)))\n",
    "\n",
    "    # Get validation set for this fold\n",
    "    valid_range = valid_range_all[i]\n",
    "    valid_set = np.arange(int(np.round(valid_range[0] * num_examples)) + num_overlapping_bin,\n",
    "                            int(np.round(valid_range[1] * num_examples)))\n",
    "\n",
    "    # Get training set for this fold.\n",
    "    # Note this needs to take into account a non-contiguous training set (see section 3C)\n",
    "    training_ranges = training_range_all[i]\n",
    "    for j in range(len(training_ranges)):  # Go through different separated portions of the training set\n",
    "        training_range = training_ranges[j]\n",
    "        if j == 0:  # If it's the first portion of the training set, make it the training set\n",
    "            training_set = np.arange(int(np.round(training_range[0] * num_examples)) + num_overlapping_bin,\n",
    "                                        int(np.round(training_range[1] * num_examples)))\n",
    "        if j == 1:  # If it's the second portion of the training set, concatentate it to the first\n",
    "            training_set_temp = np.arange(int(np.round(training_range[0] * num_examples)) + num_overlapping_bin,\n",
    "                                            int(np.round(training_range[1] * num_examples)))\n",
    "            training_set = np.concatenate((training_set, training_set_temp), axis=0)\n",
    "\n",
    "    # Get training data\n",
    "    X_train = X[training_set, :]\n",
    "    y_train = Y[training_set, :]\n",
    "\n",
    "    # Get testing data\n",
    "    X_test = X[testing_set, :]\n",
    "    y_test = Y[testing_set, :]\n",
    "\n",
    "    # Get validation data\n",
    "    X_valid = X[valid_set, :]\n",
    "    y_valid = Y[valid_set, :]\n",
    "\n",
    "\n",
    "    # Add actual train/valid/test data to lists (for saving)\n",
    "    y_test_all.append(y_test)\n",
    "    y_train_all.append(y_train)\n",
    "    y_valid_all.append(y_valid)\n",
    "\n",
    "    # Fit LSTM\n",
    "    # Run model w/ below hyperparameters\n",
    "    model_lstm = LSTMRegression(units=300, dropout=0.15, num_epochs=16)\n",
    "    model_lstm.fit(X_train, y_train)\n",
    "    y_test_predicted_lstm = model_lstm.predict(X_test)\n",
    "    mean_r2_lstm[i] = np.mean(get_R2(y_test, y_test_predicted_lstm))\n",
    "    # Print test set R2\n",
    "    R2s_lstm = get_R2(y_test, y_test_predicted_lstm)\n",
    "    print('R2s:', R2s_lstm)\n",
    "    # Add predictions of training/validation/testing to lists (for saving)\n",
    "    y_pred_lstm_all.append(y_test_predicted_lstm)\n",
    "    y_train_pred_lstm_all.append(model_lstm.predict(X_train))\n",
    "    y_valid_pred_lstm_all.append(model_lstm.predict(X_valid))\n",
    "\n",
    "save_obj = {'y_test_all':y_test_all, 'y_valid_all': y_valid_all, 'y_train_all': y_train_all, 'mean_r2_lstm': mean_r2_lstm, 'y_pred_lstm_all':y_pred_lstm_all, 'y_train_pred_lstm_all':y_train_pred_lstm_all, 'y_valid_pred_lstm_all':y_valid_pred_lstm_all, 'X': X, 'Y': Y}\n",
    "\n",
    "\n",
    "# save to Google drive\n",
    "filename = 'results_lstm_selected_channels_filtered_300_units_p15_dropout_16_epochs'\n",
    "filehandler = open(filename, 'wb')\n",
    "pickle.dump(save_obj, filehandler)"
   ]
  },
  {
   "cell_type": "code",
   "execution_count": null,
   "id": "9XjXIK5tmG6M",
   "metadata": {
    "id": "9XjXIK5tmG6M"
   },
   "outputs": [],
   "source": []
  },
  {
   "cell_type": "code",
   "execution_count": null,
   "id": "c9a4a510",
   "metadata": {
    "colab": {
     "base_uri": "https://localhost:8080/"
    },
    "executionInfo": {
     "elapsed": 3,
     "status": "ok",
     "timestamp": 1703652856159,
     "user": {
      "displayName": "Yi-Ting Chang",
      "userId": "05454796370774276306"
     },
     "user_tz": 300
    },
    "id": "c9a4a510",
    "outputId": "e7979e73-21e7-402c-ded1-4d8a9b2e9751"
   },
   "outputs": [
    {
     "data": {
      "text/plain": [
       "(129, 2)"
      ]
     },
     "execution_count": 25,
     "metadata": {},
     "output_type": "execute_result"
    }
   ],
   "source": [
    "# figures\n",
    "y_pred_lstm_all[0].shape"
   ]
  },
  {
   "cell_type": "code",
   "execution_count": 21,
   "id": "_2AEv-o0nSlS",
   "metadata": {
    "colab": {
     "base_uri": "https://localhost:8080/",
     "height": 513
    },
    "executionInfo": {
     "elapsed": 544,
     "status": "ok",
     "timestamp": 1703905623437,
     "user": {
      "displayName": "Yi-Ting Chang",
      "userId": "05454796370774276306"
     },
     "user_tz": 300
    },
    "id": "_2AEv-o0nSlS",
    "outputId": "372b182c-f463-4a59-8869-8dd22c8f79e1"
   },
   "outputs": [
    {
     "data": {
      "text/plain": [
       "<matplotlib.legend.Legend at 0x7e4e050e9de0>"
      ]
     },
     "execution_count": 21,
     "metadata": {},
     "output_type": "execute_result"
    },
    {
     "data": {
      "text/plain": [
       "<Figure size 1000x600 with 0 Axes>"
      ]
     },
     "metadata": {},
     "output_type": "display_data"
    },
    {
     "data": {
      "image/png": "[encoded data removed]",
      "text/plain": [
       "<Figure size 640x480 with 2 Axes>"
      ]
     },
     "metadata": {},
     "output_type": "display_data"
    }
   ],
   "source": [
    "plt.figure(figsize=(10, 6))\n",
    "fig, axs = plt.subplots(2)\n",
    "fig.suptitle('Test set 1')\n",
    "axs[0].plot(y_test_all[0][:,0])\n",
    "axs[0].plot(y_pred_lstm_all[0][:,0])\n",
    "axs[0].legend(['cursor x (true)', 'cursor x (predicted)'])\n",
    "axs[1].plot(y_test_all[0][:,1])\n",
    "axs[1].plot(y_pred_lstm_all[0][:,1])\n",
    "axs[1].legend(['cursor y (true)', 'cursor y (predicted)'])\n"
   ]
  },
  {
   "cell_type": "code",
   "execution_count": 22,
   "id": "hZa66r4sPWJv",
   "metadata": {
    "executionInfo": {
     "elapsed": 114,
     "status": "ok",
     "timestamp": 1703905642309,
     "user": {
      "displayName": "Yi-Ting Chang",
      "userId": "05454796370774276306"
     },
     "user_tz": 300
    },
    "id": "hZa66r4sPWJv"
   },
   "outputs": [],
   "source": [
    "# accuracy\n",
    "# Compare with previous RNN\n",
    "# If the difference between the true and predicted cursor position is less than 0.1, it is considered as correct.\n",
    "# The performance of previous RNN model is 54%\n",
    "\n",
    "# x position\n",
    "diff = [np.linalg.norm(y_pred_lstm_all[0][i,0] - y_test_all[0][i,0]) for i in range(len(y_test_all[0][:,0]))]\n",
    "x_percentages = len(np.where(np.array(diff) < 0.1)[0])/len(diff)\n",
    "\n",
    "# y position\n",
    "diff = [np.linalg.norm(y_pred_lstm_all[0][i,1] - y_test_all[0][i,1]) for i in range(len(y_test_all[0][:,0]))]\n",
    "y_percentages = len(np.where(np.array(diff) < 0.1)[0])/len(diff)"
   ]
  },
  {
   "cell_type": "code",
   "execution_count": 24,
   "id": "LmuItQjtpWzu",
   "metadata": {
    "colab": {
     "base_uri": "https://localhost:8080/"
    },
    "executionInfo": {
     "elapsed": 105,
     "status": "ok",
     "timestamp": 1703905653903,
     "user": {
      "displayName": "Yi-Ting Chang",
      "userId": "05454796370774276306"
     },
     "user_tz": 300
    },
    "id": "LmuItQjtpWzu",
    "outputId": "2a9dad38-e9c3-4663-de56-2b9982d44703"
   },
   "outputs": [
    {
     "name": "stdout",
     "output_type": "stream",
     "text": [
      "0.10852713178294573\n",
      "0.24031007751937986\n"
     ]
    }
   ],
   "source": [
    "print(x_percentages)\n",
    "print(y_percentages)"
   ]
  },
  {
   "cell_type": "code",
   "execution_count": null,
   "id": "pY5XfcQ6pZFq",
   "metadata": {
    "id": "pY5XfcQ6pZFq"
   },
   "outputs": [],
   "source": []
  },
  {
   "cell_type": "code",
   "execution_count": null,
   "id": "QfHOabXHpmKw",
   "metadata": {
    "id": "QfHOabXHpmKw"
   },
   "outputs": [],
   "source": []
  }
 ],
 "metadata": {
  "accelerator": "GPU",
  "colab": {
   "gpuType": "T4",
   "provenance": []
  },
  "kernelspec": {
   "display_name": "Python 3 (ipykernel)",
   "language": "python",
   "name": "python3"
  },
  "language_info": {
   "codemirror_mode": {
    "name": "ipython",
    "version": 3
   },
   "file_extension": ".py",
   "mimetype": "text/x-python",
   "name": "python",
   "nbconvert_exporter": "python",
   "pygments_lexer": "ipython3",
   "version": "3.11.4"
  }
 },
 "nbformat": 4,
 "nbformat_minor": 5
}
